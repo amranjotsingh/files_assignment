{
 "cells": [
  {
   "cell_type": "code",
   "execution_count": 1,
   "id": "94eb5d47-9bca-4ec1-8ae5-581a98c9d5c0",
   "metadata": {},
   "outputs": [],
   "source": [
    "# Q1. Which function is used to open a file? What are the different modes of opening a file? Explain each mode\n",
    "# of file opening."
   ]
  },
  {
   "cell_type": "code",
   "execution_count": 6,
   "id": "71f61295-7710-45c4-b3ab-4778b9f74aa4",
   "metadata": {},
   "outputs": [],
   "source": [
    "# The open() function is used to open a file in Python.\n",
    "# The open() function takes two arguments: the file name, which includes the file path \n",
    "# if the file is not in the current working directory, and the mode in which to open the file.\n",
    "# The mode specifies whether the file will be opened for reading, writing, or both.\n",
    "\n",
    "\n",
    "# There are several modes for opening a file in Python:\n",
    "\n",
    "#     'r' (read mode): This is the default mode for opening a file. \n",
    "#     It is used to read the contents of a file. If the file does not exist, \n",
    "#     it will raise a FileNotFoundError exception.\n",
    "\n",
    "#     'w' (write mode): This mode is used to write data to a file. \n",
    "#     If the file does not exist, it will create a new file.\n",
    "#     If the file already exists, it will overwrite the contents of the file.\n",
    "\n",
    "#     'a' (append mode): This mode is used to append data to an existing file.\n",
    "#     If the file does not exist, it will create a new file.\n",
    "\n",
    "#     'x' (exclusive creation mode): This mode is used to create a new file.\n",
    "#     If the file already exists, it will raise a FileExistsError exception.\n",
    "\n",
    "#     'b' (binary mode): This mode is used to read or write binary data to a file.\n",
    "\n",
    "#     't' (text mode): This mode is used to read or write text data to a file.\n",
    "#     This is the default mode if the 'b' mode is not used."
   ]
  },
  {
   "cell_type": "code",
   "execution_count": 7,
   "id": "00dec25f-5c48-4765-8de5-b3169a017f11",
   "metadata": {},
   "outputs": [],
   "source": [
    "# Q2. Why close() function is used? Why is it important to close a file?"
   ]
  },
  {
   "cell_type": "code",
   "execution_count": 8,
   "id": "2554880e-b330-41e3-a3ba-71fba3c81f48",
   "metadata": {},
   "outputs": [],
   "source": [
    "# # it is important to close a file after it has been opened to release the resources being \n",
    "# used by the file, prevent memory leaks, and ensure that any data that has been written to\n",
    "# the file is properly saved. The close() function should always be called after a file has been \n",
    "# opened and is no longer needed."
   ]
  },
  {
   "cell_type": "code",
   "execution_count": 9,
   "id": "cb037093-230c-4bc4-898b-d66d2c72de4a",
   "metadata": {},
   "outputs": [],
   "source": [
    "# Q3. Write a python program to create a text file. Write ‘I want to become a Data Scientist’ in that file. Then\n",
    "# # close the file. Open this file and read the content of the file."
   ]
  },
  {
   "cell_type": "code",
   "execution_count": 34,
   "id": "1ffe3d96-8147-45e2-9484-0fc21f3d3647",
   "metadata": {},
   "outputs": [],
   "source": [
    "with open('test.text','w') as f:\n",
    "    f.write(\"I want to become a Data Scientist .\\nI want to be place in mnc\")\n",
    "    f.close()"
   ]
  },
  {
   "cell_type": "code",
   "execution_count": 35,
   "id": "454c02eb-f69e-47a8-854c-1341ae07d66b",
   "metadata": {},
   "outputs": [
    {
     "name": "stdout",
     "output_type": "stream",
     "text": [
      "I want to become a Data Scientist .\n",
      "I want to be place in mnc\n"
     ]
    }
   ],
   "source": [
    "with open('test.text','r') as f:\n",
    "    print(f.read())"
   ]
  },
  {
   "cell_type": "code",
   "execution_count": 23,
   "id": "600bc8e7-1069-4d9d-9329-c808d7d1425a",
   "metadata": {},
   "outputs": [],
   "source": [
    "# Q4. Explain the following with python code: read(), readline() and readlines()."
   ]
  },
  {
   "cell_type": "code",
   "execution_count": 24,
   "id": "bfcdfee9-755c-48ba-b2b4-4a332bcb9b77",
   "metadata": {},
   "outputs": [],
   "source": [
    "# In Python, there are several ways to read the contents of a file.\n",
    "# Here's a brief explanation of the read(), readline(), and readlines() methods, \n",
    "# along with sample code to demonstrate their usage:\n",
    "\n",
    "# read(): The read() method is used to read the entire contents of a file. \n",
    "# It returns a string that contains the entire contents of the file. Here's an example:"
   ]
  },
  {
   "cell_type": "code",
   "execution_count": 26,
   "id": "737ceb70-acae-417c-a7c5-8a4add89217b",
   "metadata": {},
   "outputs": [
    {
     "name": "stdout",
     "output_type": "stream",
     "text": [
      "I want to become a Data Scientist\n"
     ]
    }
   ],
   "source": [
    "# Open file for reading\n",
    "with open('test.text', 'r') as f:\n",
    "    contents = f.read()\n",
    "\n",
    "# Print contents of the file\n",
    "print(contents)\n"
   ]
  },
  {
   "cell_type": "code",
   "execution_count": 27,
   "id": "d25d6d92-5f98-4551-84be-e3b453775650",
   "metadata": {},
   "outputs": [],
   "source": [
    "# readline(): The readline() method is used to read a single line from a file. \n",
    "# It returns a string that contains the contents of the line, including the newline character at the\n",
    "# end of the line. Here's an example:"
   ]
  },
  {
   "cell_type": "code",
   "execution_count": 36,
   "id": "7870b5aa-a996-40f3-bbf0-02ea113c09e8",
   "metadata": {},
   "outputs": [
    {
     "name": "stdout",
     "output_type": "stream",
     "text": [
      "I want to become a Data Scientist .\n",
      "\n",
      "I want to be place in mnc\n"
     ]
    }
   ],
   "source": [
    "# Open file for reading\n",
    "with open('test.text', 'r') as f:\n",
    "    line1 = f.readline()\n",
    "    line2 = f.readline()\n",
    "\n",
    "# Print the first two lines of the file\n",
    "print(line1)\n",
    "print(line2)\n"
   ]
  },
  {
   "cell_type": "code",
   "execution_count": 37,
   "id": "2454fed4-99cf-4bf7-8390-fa85b3cb6361",
   "metadata": {},
   "outputs": [],
   "source": [
    "# readlines(): The readlines() method is used to read all of the lines of a file and store them\n",
    "# in a list. Each element of the list represents a single line of the file, including the newline\n",
    "# character at the end of the line."
   ]
  },
  {
   "cell_type": "code",
   "execution_count": 38,
   "id": "ba145d00-f705-4c21-a2a6-d089c2ed71c5",
   "metadata": {},
   "outputs": [
    {
     "name": "stdout",
     "output_type": "stream",
     "text": [
      "I want to become a Data Scientist .\n",
      "\n",
      "I want to be place in mnc\n"
     ]
    }
   ],
   "source": [
    "# Open file for reading\n",
    "with open('test.text', 'r') as f:\n",
    "    lines = f.readlines()\n",
    "\n",
    "# Print the contents of the file\n",
    "for line in lines:\n",
    "    print(line)\n"
   ]
  },
  {
   "cell_type": "code",
   "execution_count": 39,
   "id": "db20b94c-f320-46d6-9620-ccfa4db836b1",
   "metadata": {},
   "outputs": [],
   "source": [
    "# Explain why with statement is used with open(). What is the advantage of using with statement and\n",
    "# open() together?"
   ]
  },
  {
   "cell_type": "code",
   "execution_count": 40,
   "id": "147b8977-6af1-4f4a-b9b1-af0948d815ff",
   "metadata": {},
   "outputs": [],
   "source": [
    "# The with statement in Python is used to ensure that a block of code is \n",
    "# executed within a context defined by an object, and the object is cleaned \n",
    "# up after the block of code is executed. The open() function in Python is used \n",
    "# to open a file and returns a file object that can be used to read or write \n",
    "# to the file. When open() is used with the with statement, the file is\n",
    "# automatically closed when the block of code is exited, \n",
    "# regardless of how the block of code is exited."
   ]
  },
  {
   "cell_type": "code",
   "execution_count": 41,
   "id": "e15cf3b4-1571-4610-a963-3fb5cd058c90",
   "metadata": {},
   "outputs": [],
   "source": [
    "# Explain the write() and writelines() functions. Give a suitable example."
   ]
  },
  {
   "cell_type": "code",
   "execution_count": 42,
   "id": "7eb5e2fd-991a-4d29-84db-4a2cfacc1169",
   "metadata": {},
   "outputs": [],
   "source": [
    "# In Python, the write() and writelines() functions are used to write data to a file.\n",
    "\n",
    "    # write(): The write() function is used to write a single string to a file. \n",
    "    # It returns the number of characters written to the file.\n",
    "    # If the file already exists, the write() function overwrites the existing \n",
    "    # file with the new data. "
   ]
  },
  {
   "cell_type": "code",
   "execution_count": 43,
   "id": "f76b2bdb-1bac-464c-86c3-7430b3c87041",
   "metadata": {},
   "outputs": [],
   "source": [
    "# Opening a file in write mode\n",
    "file = open(\"example.txt\", \"w\")\n",
    "\n",
    "# Writing a string to the file\n",
    "file.write(\"Hello, World!\")\n",
    "\n",
    "# Closing the file\n",
    "file.close()\n"
   ]
  },
  {
   "cell_type": "code",
   "execution_count": 46,
   "id": "bd2f0fbf-63d1-4be4-837f-484c4c36ab79",
   "metadata": {},
   "outputs": [],
   "source": [
    "# The writelines() function is used to write a list of strings or a sequence of bytes to a file. \n",
    "# It takes a single argument, which is the list of strings that needs to be written to the file.\n",
    "# Each string in the list is written as a separate line in the file."
   ]
  },
  {
   "cell_type": "code",
   "execution_count": 47,
   "id": "b8be860b-a98a-4d83-bd7e-b00d5ef27d4a",
   "metadata": {},
   "outputs": [],
   "source": [
    "# Opening a file in write mode\n",
    "file = open(\"example.txt\", \"w\")\n",
    "\n",
    "# Writing a list of strings to the file\n",
    "lines = [\"Hello, World!\", \"This is an example.\", \"Goodbye!\"]\n",
    "file.writelines(lines)\n",
    "\n",
    "# Closing the file\n",
    "file.close()\n"
   ]
  },
  {
   "cell_type": "code",
   "execution_count": null,
   "id": "63540110-c9fd-4261-9f91-21e6035bbe6e",
   "metadata": {},
   "outputs": [],
   "source": []
  },
  {
   "cell_type": "code",
   "execution_count": null,
   "id": "b5ae1459-b5f1-4d98-ab84-2c0ce580968f",
   "metadata": {},
   "outputs": [],
   "source": []
  }
 ],
 "metadata": {
  "kernelspec": {
   "display_name": "Python 3 (ipykernel)",
   "language": "python",
   "name": "python3"
  },
  "language_info": {
   "codemirror_mode": {
    "name": "ipython",
    "version": 3
   },
   "file_extension": ".py",
   "mimetype": "text/x-python",
   "name": "python",
   "nbconvert_exporter": "python",
   "pygments_lexer": "ipython3",
   "version": "3.10.8"
  }
 },
 "nbformat": 4,
 "nbformat_minor": 5
}
